{
 "cells": [
  {
   "cell_type": "markdown",
   "metadata": {},
   "source": [
    "## File reading templates"
   ]
  },
  {
   "cell_type": "code",
   "execution_count": null,
   "metadata": {},
   "outputs": [],
   "source": [
    "# Template if it's better to work directly on each line\n",
    "res = 0\n",
    "with open(\"2021/input_files/day01\") as f:\n",
    "    for data in f:\n",
    "        data = data.rstrip()\n",
    "print(f\"{res=}\")\n",
    "\n",
    "# Template if it's better to have a list in input\n",
    "with open(\"2022/input_files/day04t\") as f:\n",
    "    lines = [line.rstrip() for line in f]\n",
    "for line in lines:\n",
    "    pass\n",
    "\n",
    "# Template if there are groups separated by empty line\n",
    "with open(\"2021/input_files/day04t\") as f:\n",
    "    data = \"\".join([line for line in f])\n",
    "    groups = [group.split(\"\\n\") for group in data.split(\"\\n\\n\")]\n",
    "\n",
    "# Template single line of data\n",
    "with open(\"2021/input_files/day07t\") as f:\n",
    "    ages = list(map(int, f.readline().rstrip().split(\",\")))"
   ]
  },
  {
   "cell_type": "markdown",
   "metadata": {},
   "source": [
    "## Containers"
   ]
  },
  {
   "cell_type": "markdown",
   "metadata": {},
   "source": [
    "Theory https://stackoverflow.com/questions/2920619/difference-between-list-sequence-and-slice-in-python\n",
    "\n",
    "iterable interface has 4 descendants:\n",
    "- sequence (random access by int, can be sliced)\n",
    "  - list\n",
    "  - tuple\n",
    "  - str\n",
    "- mapping (access via keys, no slicing)\n",
    "  - dict\n",
    "- set (unordered)\n",
    "- generator (most basic type, no random access, no slicing)\n",
    "  - created by generator expressions or yield\n",
    "All iterables can be used with an iterator (which has the same interface as the most basic type they support/generator)\n",
    "\n",
    "Top level functions which work on iterable: min, max, len, all, any, sum, map (executes function on all items)\n",
    "https://docs.python.org/3/library/functions.html"
   ]
  },
  {
   "cell_type": "markdown",
   "metadata": {},
   "source": [
    "### list"
   ]
  },
  {
   "cell_type": "code",
   "execution_count": null,
   "metadata": {},
   "outputs": [],
   "source": [
    "a_list = []\n",
    "# Initialize list of objects (can't use [list()]*1000 because it would be 1000 times the same ref)\n",
    "stacks = [list() for _ in range(1000)]\n",
    "# Initialize 2 dimension list\n",
    "grid = [[0] * 1000 for _ in range(1000)]\n",
    "# Copy list without reference\n",
    "second_list = a_list.copy()\n",
    "# Search in list\n",
    "value_found = next(x for x in a_list if x.name == \"something\")\n",
    "# Sort in place (reverse)\n",
    "a_list.sort(reverse=True)\n",
    "\n",
    "# to remove items from a list while iterating on it: start by the end\n",
    "def reverse_range(a_list):\n",
    "    return range(len(a_list) - 1, -1, -1)\n",
    "\n",
    "for i in reverse_range(a_list):\n",
    "    # bla bla\n",
    "    del a_list[i]"
   ]
  },
  {
   "cell_type": "markdown",
   "metadata": {},
   "source": [
    "### dict"
   ]
  },
  {
   "cell_type": "code",
   "execution_count": null,
   "metadata": {},
   "outputs": [],
   "source": [
    "a_dict = {}\n",
    "a_dict.keys()\n",
    "a_dict.values()\n",
    "a_dict.items()\n",
    "for key in a_dict:\n",
    "    # we have access to the values too\n",
    "    print(a_dict[key])\n",
    "for key, value in a_dict.items():  # gives directly both\n",
    "    pass\n",
    "# reversed map:\n",
    "reverse_dict = {v: k for k, v in a_dict.items()}"
   ]
  },
  {
   "cell_type": "markdown",
   "metadata": {},
   "source": [
    "### set"
   ]
  },
  {
   "cell_type": "code",
   "execution_count": null,
   "metadata": {},
   "outputs": [],
   "source": [
    "a_set = set()\n",
    "b_set = {1, 2}  # can be initialized with curly brackets only if not empty\n",
    "a_set.add(3)\n",
    "a_set.update(b_set)  # add elements from another iterable\n",
    "a_set.issubset([1, 2])  # if all items of a_set are in the other iterable\n",
    "a_set | b_set  # union\n",
    "a_set & b_set  # intersection\n",
    "a_set - b_set  # difference\n",
    "a_set ^ b_set  # symetric_difference\n",
    "a_set <= b_set  # issubset\n",
    "a_set >= b_set  # issuperset"
   ]
  },
  {
   "cell_type": "markdown",
   "metadata": {},
   "source": [
    "### str"
   ]
  },
  {
   "cell_type": "code",
   "execution_count": null,
   "metadata": {},
   "outputs": [],
   "source": [
    "a_str = \"abca\"\n",
    "a_str.count(\"a\")"
   ]
  },
  {
   "cell_type": "markdown",
   "metadata": {},
   "source": [
    "## Math"
   ]
  },
  {
   "cell_type": "code",
   "execution_count": null,
   "metadata": {},
   "outputs": [],
   "source": [
    "# Integer division\n",
    "i = 5 // 2  # returns 2\n",
    "# Modulo\n",
    "i = 7 % 5   # returns 2\n",
    "# Power\n",
    "i = pow(2, 4) # 2 exp 4\n",
    "\n",
    "import math\n",
    "\n",
    "test = math.inf  # infinity\n",
    "test = math.prod([monkey.test for monkey in a_list])  # multiply items of a list"
   ]
  },
  {
   "cell_type": "markdown",
   "metadata": {},
   "source": [
    "## Classes"
   ]
  },
  {
   "cell_type": "code",
   "execution_count": null,
   "metadata": {},
   "outputs": [],
   "source": [
    "class Node:\n",
    "    def __init__(self, name, is_dir, parent=None, size=0):\n",
    "        self.children = []\n",
    "        self.name = name\n",
    "        self.is_dir = is_dir\n",
    "        self.size = size\n",
    "        self.parent = parent\n",
    "\n",
    "    def double_size(self):\n",
    "        return self.size * 2"
   ]
  },
  {
   "cell_type": "markdown",
   "metadata": {},
   "source": [
    "## Graph - BFS, DFS"
   ]
  },
  {
   "cell_type": "markdown",
   "metadata": {},
   "source": [
    "### BFS"
   ]
  },
  {
   "cell_type": "code",
   "execution_count": 8,
   "metadata": {},
   "outputs": [
    {
     "name": "stdout",
     "output_type": "stream",
     "text": [
      "['1', '4', '7', '11']\n"
     ]
    }
   ],
   "source": [
    "####################################################################\n",
    "# BFS with path\n",
    "\n",
    "# graph is in adjacent list representation\n",
    "graph = {\n",
    "    \"1\": [\"2\", \"3\", \"4\"],\n",
    "    \"2\": [\"5\", \"6\"],\n",
    "    \"5\": [\"9\", \"10\"],\n",
    "    \"4\": [\"7\", \"8\"],\n",
    "    \"7\": [\"11\", \"12\"],\n",
    "}\n",
    "\n",
    "def bfs(graph, start, end):\n",
    "    # maintain a queue of paths\n",
    "    queue = []\n",
    "    # push the first path into the queue\n",
    "    queue.append([start])\n",
    "    while queue:\n",
    "        # get the first path from the queue\n",
    "        path = queue.pop(0)\n",
    "        # get the last node from the path\n",
    "        node = path[-1]\n",
    "        # path found\n",
    "        if node == end:\n",
    "            return path\n",
    "        # enumerate all adjacent nodes, construct a\n",
    "        # new path and push it into the queue\n",
    "        for adjacent in graph.get(node, []):\n",
    "            new_path = list(path)\n",
    "            new_path.append(adjacent)\n",
    "            queue.append(new_path)\n",
    "\n",
    "print(bfs(graph, \"1\", \"11\"))\n",
    "\n",
    "# OR\n",
    "\n",
    "graph = {\n",
    "    \"A\": set([\"B\", \"C\"]),\n",
    "    \"B\": set([\"A\", \"D\", \"E\"]),\n",
    "    \"C\": set([\"A\", \"F\"]),\n",
    "    \"D\": set([\"B\"]),\n",
    "    \"E\": set([\"B\", \"F\"]),\n",
    "    \"F\": set([\"C\", \"E\"]),\n",
    "}\n",
    "\n",
    "def retunShortestPath(graph, start, end):\n",
    "    queue = [(start, [start])]\n",
    "    visited = set()\n",
    "\n",
    "    while queue:\n",
    "        vertex, path = queue.pop(0)\n",
    "        visited.add(vertex)\n",
    "        for node in graph[vertex]:\n",
    "            if node == end:\n",
    "                return path + [end]\n",
    "            else:\n",
    "                if node not in visited:\n",
    "                    visited.add(node)\n",
    "                    queue.append((node, path + [node]))\n"
   ]
  },
  {
   "cell_type": "markdown",
   "metadata": {},
   "source": [
    "### DFS"
   ]
  },
  {
   "cell_type": "code",
   "execution_count": null,
   "metadata": {},
   "outputs": [],
   "source": [
    "# Using a Python dictionary to act as an adjacency list\n",
    "graph = {\n",
    "  '5' : ['3','7'],\n",
    "  '3' : ['2', '4'],\n",
    "  '7' : ['8'],\n",
    "  '2' : [],\n",
    "  '4' : ['8'],\n",
    "  '8' : []\n",
    "}\n",
    "\n",
    "visited = set() # Set to keep track of visited nodes of graph.\n",
    "\n",
    "def dfs(visited, graph, node):  #function for dfs \n",
    "    if node not in visited:\n",
    "        print (node)\n",
    "        visited.add(node)\n",
    "        for neighbour in graph[node]:\n",
    "            dfs(visited, graph, neighbour)\n",
    "\n",
    "# Driver Code\n",
    "print(\"Following is the Depth-First Search\")\n",
    "dfs(visited, graph, '5')"
   ]
  },
  {
   "cell_type": "markdown",
   "metadata": {},
   "source": [
    "## Regular expressions"
   ]
  },
  {
   "cell_type": "markdown",
   "metadata": {},
   "source": [
    "Useful tool to debug your Regex: https://regex101.com/\n",
    "\n",
    "| Symbol | Meaning |\n",
    "| ---- | ------- |\n",
    "| \\ | Used to drop the special meaning of character following it (discussed below) |\n",
    "| [] | Represent a character class |\n",
    "| ^ |  Matches the beginning |\n",
    "| $ |  Matches the end |\n",
    "| . |  Matches any character except newline |\n",
    "| ? |  Matches zero or one occurrence. |\n",
    "| \\| |  Means OR (Matches with any of the characters separated by it. |\n",
    "| * |  Any number of occurrences (including 0 occurrences) |\n",
    "| + |  One or more occurrences |\n",
    "| {} | Indicate number of occurrences of a preceding RE to match. |\n",
    "| () | Enclose a group of REs |\n",
    "\n",
    "<br>\n",
    "\n",
    "| Symbol | Special matching classes | Symbol | Reverse |\n",
    "| ------ | ------------------------ | ------ | ------- |\n",
    "| \\ |  IF digit or letter: special meaning<br>ELSE second character is matched (e.g. \\$ means $ character) | | |\n",
    "| \\d | Decimal digit [0-9] | \\D | Not a decimal digit |\n",
    "| \\s | White space (inc. tab, end of line...) | \\S | Not a white space |\n",
    "| \\w | Word character [a-zA-Z0-9_] | \\W | Not a word character |\n",
    "| \\x1c | Hexa binary character 1C | | |\n",
    "\n",
    "### re.match and re.search()\n",
    "re.match()    Search first match from beginning of string only  \n",
    "re.search()   Search first match in the middle of a string"
   ]
  },
  {
   "cell_type": "code",
   "execution_count": 9,
   "metadata": {},
   "outputs": [
    {
     "name": "stdout",
     "output_type": "stream",
     "text": [
      "True\n",
      "match.start()=0 match.end()=12\n",
      "match.group(0)='1-3 b: cdefg'\n",
      "match.group(1)='1' match.group(2)='3' match.group(3)='b'match.group(4)='cdefg'\n",
      "match.groupdict()={'min': '1', 'max': '3', 'char': 'b', 'password': 'cdefg'}\n"
     ]
    }
   ],
   "source": [
    "import re\n",
    "\n",
    "# Can be used to check if it matches\n",
    "match = re.search(r\"\\d+-\\d+ \\w: \\w+\", \"1-3 b: cdefg\")\n",
    "# match.start() and match.end()  return the index where match starts and ends\n",
    "print(match != None)  # Matches\n",
    "print(f\"{match.start()=} {match.end()=}\")\n",
    "\n",
    "# Or to capture matching parts\n",
    "match = re.search(r\"(\\d+)-(\\d+) (\\w): (\\w+)\", \"1-3 b: cdefg\")\n",
    "print(f\"{match.group(0)=}\")   # group(0) always return the full matched string\n",
    "# group(1) and more returns the matching parts\n",
    "print(f\"{match.group(1)=} {match.group(2)=} {match.group(3)=}{match.group(4)=}\")\n",
    "\n",
    "# You can name the parts as well\n",
    "match = re.search(r\"(?P<min>\\d+)-(?P<max>\\d+) (?P<char>\\w): (?P<password>\\w+)\", \"1-3 b: cdefg\")\n",
    "print(f\"{match.groupdict()=}\")"
   ]
  },
  {
   "cell_type": "markdown",
   "metadata": {},
   "source": [
    "### re.findall()\n",
    "Used to find all occurences of a word matching the regex, in a bigger string\n",
    "\n",
    "Returns all non-overlapping matches of pattern in string, as a list of strings"
   ]
  },
  {
   "cell_type": "code",
   "execution_count": 10,
   "metadata": {},
   "outputs": [
    {
     "name": "stdout",
     "output_type": "stream",
     "text": [
      "['1-3', '2-4']\n"
     ]
    }
   ],
   "source": [
    "import re\n",
    "matches = re.findall(r\"\\d+-\\d+\", \"This is a sequence: 1-3 and this is another one 2-4\")\n",
    "print(matches)"
   ]
  },
  {
   "cell_type": "markdown",
   "metadata": {},
   "source": [
    "## Misc"
   ]
  },
  {
   "cell_type": "markdown",
   "metadata": {},
   "source": [
    "### Binary operations"
   ]
  },
  {
   "cell_type": "code",
   "execution_count": 11,
   "metadata": {},
   "outputs": [
    {
     "data": {
      "text/plain": [
       "'a'"
      ]
     },
     "execution_count": 11,
     "metadata": {},
     "output_type": "execute_result"
    }
   ],
   "source": [
    "# Binary operations\n",
    "# It's often easier to work with strings of 0 and 1\n",
    "# From integer to binary string:   [2:] is to remove the 0b prefix\n",
    "bin(1234)[2:]\n",
    "# From binary string to integer:\n",
    "int(\"011001\", 2)\n",
    "\n",
    "# ASCII operations\n",
    "ord(\"a\")  # 97\n",
    "chr(97)  # 'a'"
   ]
  },
  {
   "cell_type": "markdown",
   "metadata": {},
   "source": [
    "### Deep copy"
   ]
  },
  {
   "cell_type": "code",
   "execution_count": 12,
   "metadata": {},
   "outputs": [
    {
     "ename": "NameError",
     "evalue": "name 'a_list' is not defined",
     "output_type": "error",
     "traceback": [
      "\u001b[0;31m---------------------------------------------------------------------------\u001b[0m",
      "\u001b[0;31mNameError\u001b[0m                                 Traceback (most recent call last)",
      "\u001b[1;32m/Users/epignet/Dev/perso/adventofcode/notes.ipynb Cell 29\u001b[0m line \u001b[0;36m3\n\u001b[1;32m      <a href='vscode-notebook-cell:/Users/epignet/Dev/perso/adventofcode/notes.ipynb#X23sZmlsZQ%3D%3D?line=0'>1</a>\u001b[0m \u001b[39m# Deep copy of a list, when you need to copy each element\u001b[39;00m\n\u001b[1;32m      <a href='vscode-notebook-cell:/Users/epignet/Dev/perso/adventofcode/notes.ipynb#X23sZmlsZQ%3D%3D?line=1'>2</a>\u001b[0m \u001b[39mimport\u001b[39;00m \u001b[39mcopy\u001b[39;00m\n\u001b[0;32m----> <a href='vscode-notebook-cell:/Users/epignet/Dev/perso/adventofcode/notes.ipynb#X23sZmlsZQ%3D%3D?line=2'>3</a>\u001b[0m b_list \u001b[39m=\u001b[39m copy\u001b[39m.\u001b[39mdeepcopy(a_list)\n",
      "\u001b[0;31mNameError\u001b[0m: name 'a_list' is not defined"
     ]
    }
   ],
   "source": [
    "# Deep copy of a list, when you need to copy each element\n",
    "import copy\n",
    "b_list = copy.deepcopy(a_list)"
   ]
  },
  {
   "cell_type": "markdown",
   "metadata": {},
   "source": [
    "### Break multiple loops"
   ]
  },
  {
   "cell_type": "code",
   "execution_count": null,
   "metadata": {},
   "outputs": [],
   "source": [
    "# Break multiple looks\n",
    "class GetOutOfLoop(Exception):\n",
    "    pass\n",
    "\n",
    "try:\n",
    "    for i in range(10):\n",
    "        for j in range(20):\n",
    "            if i == j:\n",
    "                raise GetOutOfLoop\n",
    "except GetOutOfLoop:\n",
    "    pass"
   ]
  }
 ],
 "metadata": {
  "kernelspec": {
   "display_name": "Python 3",
   "language": "python",
   "name": "python3"
  },
  "language_info": {
   "codemirror_mode": {
    "name": "ipython",
    "version": 3
   },
   "file_extension": ".py",
   "mimetype": "text/x-python",
   "name": "python",
   "nbconvert_exporter": "python",
   "pygments_lexer": "ipython3",
   "version": "3.11.6"
  }
 },
 "nbformat": 4,
 "nbformat_minor": 2
}
